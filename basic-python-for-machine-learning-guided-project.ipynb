{
 "cells": [
  {
   "cell_type": "markdown",
   "id": "94891962",
   "metadata": {
    "id": "VMuUK0ap_bRD",
    "papermill": {
     "duration": 0.011154,
     "end_time": "2023-06-11T21:19:58.271758",
     "exception": false,
     "start_time": "2023-06-11T21:19:58.260604",
     "status": "completed"
    },
    "tags": []
   },
   "source": [
    "# Chapter 1\n",
    "### Your first day at your new job 👩‍💻👨‍💻\n",
    "\n",
    "You are starting a new job as a junior software developer in an IT company. \n",
    "\n",
    "The company’s HR department asks you to fill out a form, so you start by assigning your personal information to corresponding variables.\n",
    "\n",
    "📌 Create a variable for your name, surname, age, ID number, place of residence, to specify if you have active health insurance or not, and lastly one for specifying your nationality.\n"
   ]
  },
  {
   "cell_type": "code",
   "execution_count": 1,
   "id": "1077c24b",
   "metadata": {
    "execution": {
     "iopub.execute_input": "2023-06-11T21:19:58.295938Z",
     "iopub.status.busy": "2023-06-11T21:19:58.294864Z",
     "iopub.status.idle": "2023-06-11T21:19:58.311267Z",
     "shell.execute_reply": "2023-06-11T21:19:58.309991Z"
    },
    "id": "OPLhhc2Sp-D0",
    "papermill": {
     "duration": 0.031987,
     "end_time": "2023-06-11T21:19:58.314428",
     "exception": false,
     "start_time": "2023-06-11T21:19:58.282441",
     "status": "completed"
    },
    "tags": []
   },
   "outputs": [],
   "source": [
    "#Please assign your personal information to variables\n",
    "my_name = \"Mehmet\"\n",
    "my_surname = \"ISIK\"\n",
    "my_age = 34\n",
    "ID_number = 123456789\n",
    "where_i_live = \"Türkiye\"\n",
    "healt_insurance = True\n",
    "my_nationality = \"Turkish\""
   ]
  },
  {
   "cell_type": "markdown",
   "id": "6b7192d1",
   "metadata": {
    "id": "3zaUlxwcp-D0",
    "papermill": {
     "duration": 0.010117,
     "end_time": "2023-06-11T21:19:58.335388",
     "exception": false,
     "start_time": "2023-06-11T21:19:58.325271",
     "status": "completed"
    },
    "tags": []
   },
   "source": [
    "**Meet And Greet**\n",
    "- Introduce yourself to your new co-workers.\n",
    "\n",
    "📌 Use a f-string to print \"My name is Joey Tribbiani I am 25 years old and I live in London”."
   ]
  },
  {
   "cell_type": "code",
   "execution_count": 2,
   "id": "2dcaf56c",
   "metadata": {
    "execution": {
     "iopub.execute_input": "2023-06-11T21:19:58.361907Z",
     "iopub.status.busy": "2023-06-11T21:19:58.360586Z",
     "iopub.status.idle": "2023-06-11T21:19:58.368324Z",
     "shell.execute_reply": "2023-06-11T21:19:58.366900Z"
    },
    "id": "XNuh5_2WXwvg",
    "papermill": {
     "duration": 0.023216,
     "end_time": "2023-06-11T21:19:58.371596",
     "exception": false,
     "start_time": "2023-06-11T21:19:58.348380",
     "status": "completed"
    },
    "tags": []
   },
   "outputs": [
    {
     "name": "stdout",
     "output_type": "stream",
     "text": [
      "My name is  Mehmet ISIK i am 34 years old, i live in Türkiye\n"
     ]
    }
   ],
   "source": [
    "# Write a sentence using the print function to describe yourself using the variables above in the correct data type\n",
    "print(f\"My name is  {my_name} {my_surname} i am {str(my_age)} years old, i live in {where_i_live}\")"
   ]
  },
  {
   "cell_type": "markdown",
   "id": "da436b87",
   "metadata": {
    "id": "EEL9To4ip-D1",
    "papermill": {
     "duration": 0.010064,
     "end_time": "2023-06-11T21:19:58.392703",
     "exception": false,
     "start_time": "2023-06-11T21:19:58.382639",
     "status": "completed"
    },
    "tags": []
   },
   "source": [
    "### Equipment starter pack\n",
    "The HR department asks you to list the items you would need to improve your work efficiency\n",
    "\n",
    "Mandatory:\n",
    "* Laptop\n",
    "* Headset\n",
    "* Second monitor\n",
    "\n",
    "Optional:\n",
    "* Mousepad\n",
    "* USB drive\n",
    "* External drive\n",
    "\n",
    "\n",
    "📌 Create a shopping list that contains items above and print it."
   ]
  },
  {
   "cell_type": "code",
   "execution_count": 3,
   "id": "e895fa92",
   "metadata": {
    "execution": {
     "iopub.execute_input": "2023-06-11T21:19:58.416792Z",
     "iopub.status.busy": "2023-06-11T21:19:58.415870Z",
     "iopub.status.idle": "2023-06-11T21:19:58.421453Z",
     "shell.execute_reply": "2023-06-11T21:19:58.420376Z"
    },
    "id": "fPFBLDyqp-D2",
    "papermill": {
     "duration": 0.020863,
     "end_time": "2023-06-11T21:19:58.424080",
     "exception": false,
     "start_time": "2023-06-11T21:19:58.403217",
     "status": "completed"
    },
    "tags": []
   },
   "outputs": [],
   "source": [
    "# Create the item_list\n",
    "item_list = [\"Laptop\", \"Headset\", \"Second Monitor\", \"Mousepad\", \"USB Drive\", \"External Drive\"]"
   ]
  },
  {
   "cell_type": "code",
   "execution_count": 4,
   "id": "aefb631f",
   "metadata": {
    "execution": {
     "iopub.execute_input": "2023-06-11T21:19:58.448433Z",
     "iopub.status.busy": "2023-06-11T21:19:58.447410Z",
     "iopub.status.idle": "2023-06-11T21:19:58.453980Z",
     "shell.execute_reply": "2023-06-11T21:19:58.452768Z"
    },
    "id": "358R_CN5U2-J",
    "papermill": {
     "duration": 0.022275,
     "end_time": "2023-06-11T21:19:58.456935",
     "exception": false,
     "start_time": "2023-06-11T21:19:58.434660",
     "status": "completed"
    },
    "tags": []
   },
   "outputs": [
    {
     "name": "stdout",
     "output_type": "stream",
     "text": [
      "['Laptop', 'Headset', 'Second Monitor', 'Mousepad', 'USB Drive', 'External Drive']\n"
     ]
    }
   ],
   "source": [
    "# Print the list\n",
    "print(item_list)"
   ]
  },
  {
   "cell_type": "markdown",
   "id": "9ed35cf4",
   "metadata": {
    "id": "5keEWjCyp-D2",
    "papermill": {
     "duration": 0.0105,
     "end_time": "2023-06-11T21:19:58.478757",
     "exception": false,
     "start_time": "2023-06-11T21:19:58.468257",
     "status": "completed"
    },
    "tags": []
   },
   "source": [
    "**What is mandatory and what is optional?**\n",
    "\n",
    "📌 Use list slicing to devide your list in two list: 'mandatory_item_list' and 'optional_item_list' and print both to the screen."
   ]
  },
  {
   "cell_type": "code",
   "execution_count": 5,
   "id": "86422851",
   "metadata": {
    "execution": {
     "iopub.execute_input": "2023-06-11T21:19:58.503801Z",
     "iopub.status.busy": "2023-06-11T21:19:58.502590Z",
     "iopub.status.idle": "2023-06-11T21:19:58.508796Z",
     "shell.execute_reply": "2023-06-11T21:19:58.507540Z"
    },
    "id": "E6ewuDYZp-D2",
    "papermill": {
     "duration": 0.021994,
     "end_time": "2023-06-11T21:19:58.511778",
     "exception": false,
     "start_time": "2023-06-11T21:19:58.489784",
     "status": "completed"
    },
    "tags": []
   },
   "outputs": [],
   "source": [
    "# Use list slicing to divide the mandatory items\n",
    "mandatory_item_list =item_list[0:3]"
   ]
  },
  {
   "cell_type": "code",
   "execution_count": 6,
   "id": "b0049b57",
   "metadata": {
    "execution": {
     "iopub.execute_input": "2023-06-11T21:19:58.539062Z",
     "iopub.status.busy": "2023-06-11T21:19:58.538205Z",
     "iopub.status.idle": "2023-06-11T21:19:58.542855Z",
     "shell.execute_reply": "2023-06-11T21:19:58.541938Z"
    },
    "id": "hOmkym01RGEL",
    "papermill": {
     "duration": 0.020507,
     "end_time": "2023-06-11T21:19:58.545485",
     "exception": false,
     "start_time": "2023-06-11T21:19:58.524978",
     "status": "completed"
    },
    "tags": []
   },
   "outputs": [],
   "source": [
    "# Use list slicing to divide the optional items\n",
    "optional_item_list = item_list[3:6]"
   ]
  },
  {
   "cell_type": "code",
   "execution_count": 7,
   "id": "941bd62b",
   "metadata": {
    "execution": {
     "iopub.execute_input": "2023-06-11T21:19:58.570601Z",
     "iopub.status.busy": "2023-06-11T21:19:58.569771Z",
     "iopub.status.idle": "2023-06-11T21:19:58.576074Z",
     "shell.execute_reply": "2023-06-11T21:19:58.574710Z"
    },
    "id": "xsVv1_msVE1_",
    "papermill": {
     "duration": 0.02237,
     "end_time": "2023-06-11T21:19:58.578871",
     "exception": false,
     "start_time": "2023-06-11T21:19:58.556501",
     "status": "completed"
    },
    "tags": []
   },
   "outputs": [
    {
     "name": "stdout",
     "output_type": "stream",
     "text": [
      "['Laptop', 'Headset', 'Second Monitor']\n",
      "['Mousepad', 'USB Drive', 'External Drive']\n"
     ]
    }
   ],
   "source": [
    "# Print both to the screen\n",
    "print(mandatory_item_list)\n",
    "print(optional_item_list)"
   ]
  },
  {
   "cell_type": "markdown",
   "id": "f10bb80b",
   "metadata": {
    "id": "s_M1Q93wp-D3",
    "papermill": {
     "duration": 0.010385,
     "end_time": "2023-06-11T21:19:58.600483",
     "exception": false,
     "start_time": "2023-06-11T21:19:58.590098",
     "status": "completed"
    },
    "tags": []
   },
   "source": [
    "#### Go Shopping\n",
    "Next, you will have to go and purchase these items, the finance department confirmed a budget of $5000.\n",
    "\n",
    "📌 Assign 5000 to a variable called limit, so you know how much you can spend."
   ]
  },
  {
   "cell_type": "code",
   "execution_count": 8,
   "id": "e4cd2ecc",
   "metadata": {
    "execution": {
     "iopub.execute_input": "2023-06-11T21:19:58.623889Z",
     "iopub.status.busy": "2023-06-11T21:19:58.623330Z",
     "iopub.status.idle": "2023-06-11T21:19:58.628680Z",
     "shell.execute_reply": "2023-06-11T21:19:58.627595Z"
    },
    "id": "nCmpm0oqp-D3",
    "papermill": {
     "duration": 0.019987,
     "end_time": "2023-06-11T21:19:58.631049",
     "exception": false,
     "start_time": "2023-06-11T21:19:58.611062",
     "status": "completed"
    },
    "tags": []
   },
   "outputs": [],
   "source": [
    "# Assign the spending limit value to a variable called limit\n",
    "limit = 5000"
   ]
  },
  {
   "cell_type": "markdown",
   "id": "fe4ab52d",
   "metadata": {
    "id": "VwbEEymVp-D3",
    "papermill": {
     "duration": 0.010741,
     "end_time": "2023-06-11T21:19:58.653668",
     "exception": false,
     "start_time": "2023-06-11T21:19:58.642927",
     "status": "completed"
    },
    "tags": []
   },
   "source": [
    "**Price dictionary**\n",
    "\n",
    "Before you start shopping yo need to find the best items that you can buy within the company budget. \n",
    "\n",
    "📌 Prepare a dictionary called “price_sheet” that includes the items as keys and the prices as values.  \n",
    " "
   ]
  },
  {
   "cell_type": "code",
   "execution_count": 9,
   "id": "c7d9b039",
   "metadata": {
    "execution": {
     "iopub.execute_input": "2023-06-11T21:19:58.677163Z",
     "iopub.status.busy": "2023-06-11T21:19:58.676609Z",
     "iopub.status.idle": "2023-06-11T21:19:58.682795Z",
     "shell.execute_reply": "2023-06-11T21:19:58.681518Z"
    },
    "id": "9o9n9Ag-p-D3",
    "papermill": {
     "duration": 0.021127,
     "end_time": "2023-06-11T21:19:58.685548",
     "exception": false,
     "start_time": "2023-06-11T21:19:58.664421",
     "status": "completed"
    },
    "tags": []
   },
   "outputs": [],
   "source": [
    "# Create a dictionary that contains each item and its price\n",
    "price_sheet = {\n",
    "    \"Laptop\": 1500,\n",
    "    \"Headset\": 100,\n",
    "    \"Second Monitor\": 200,\n",
    "    \"Mousepad\": 50,\n",
    "    \"USB Drive\": 70,\n",
    "    \"External Drive\": 250    \n",
    "}\n"
   ]
  },
  {
   "cell_type": "markdown",
   "id": "766ad964",
   "metadata": {
    "id": "rUYivBVEBhCv",
    "papermill": {
     "duration": 0.010222,
     "end_time": "2023-06-11T21:19:58.706656",
     "exception": false,
     "start_time": "2023-06-11T21:19:58.696434",
     "status": "completed"
    },
    "tags": []
   },
   "source": [
    "**Shopping functions**\n",
    "\n",
    "You need to define three functions that will help you during shopping.\n",
    "\n",
    "📌 First, create an empty list that  will be your shopping cart. Here you will add the items you need to purchase.\n",
    "\n",
    "1. Define a function for both adding items to the cart and removing them from the item_list.\n",
    "\n",
    "📌 The \"add_to_cart\" function should take the item name and the quantity to buy as an argument. \n",
    "\n",
    "2. Define a function that will create an invoice. \n",
    "\n",
    "📌 The \"create_invoice\" function should calculate the taxes of each item (18%) and add it to the total amount.\n",
    "\n",
    "3. Define a function for the checkout. \n",
    "\n",
    "📌 The \"checkout\" function should subtract the total amount from the budget and print a statement to inform if the payment was successful. "
   ]
  },
  {
   "cell_type": "code",
   "execution_count": 10,
   "id": "b732e524",
   "metadata": {
    "execution": {
     "iopub.execute_input": "2023-06-11T21:19:58.730263Z",
     "iopub.status.busy": "2023-06-11T21:19:58.729531Z",
     "iopub.status.idle": "2023-06-11T21:19:58.736326Z",
     "shell.execute_reply": "2023-06-11T21:19:58.734696Z"
    },
    "id": "dBNZ2ZdkGHUe",
    "papermill": {
     "duration": 0.022373,
     "end_time": "2023-06-11T21:19:58.739580",
     "exception": false,
     "start_time": "2023-06-11T21:19:58.717207",
     "status": "completed"
    },
    "tags": []
   },
   "outputs": [],
   "source": [
    "# Initialize the cart list\n",
    "cart = []"
   ]
  },
  {
   "cell_type": "code",
   "execution_count": 11,
   "id": "7ce4d46b",
   "metadata": {
    "execution": {
     "iopub.execute_input": "2023-06-11T21:19:58.764084Z",
     "iopub.status.busy": "2023-06-11T21:19:58.763470Z",
     "iopub.status.idle": "2023-06-11T21:19:58.770213Z",
     "shell.execute_reply": "2023-06-11T21:19:58.768849Z"
    },
    "id": "HH26hHHFGKPJ",
    "papermill": {
     "duration": 0.022003,
     "end_time": "2023-06-11T21:19:58.772872",
     "exception": false,
     "start_time": "2023-06-11T21:19:58.750869",
     "status": "completed"
    },
    "tags": []
   },
   "outputs": [],
   "source": [
    "# Define the \"add_to_cart\" function\n",
    "def add_to_cart (item, quantity):\n",
    "    cart.append((item,quantity))\n",
    "    item_list.remove(item)"
   ]
  },
  {
   "cell_type": "code",
   "execution_count": 12,
   "id": "eb881c19",
   "metadata": {
    "execution": {
     "iopub.execute_input": "2023-06-11T21:19:58.796788Z",
     "iopub.status.busy": "2023-06-11T21:19:58.796260Z",
     "iopub.status.idle": "2023-06-11T21:19:58.804964Z",
     "shell.execute_reply": "2023-06-11T21:19:58.803600Z"
    },
    "papermill": {
     "duration": 0.02337,
     "end_time": "2023-06-11T21:19:58.807514",
     "exception": false,
     "start_time": "2023-06-11T21:19:58.784144",
     "status": "completed"
    },
    "tags": []
   },
   "outputs": [],
   "source": [
    "# Define the \"create_invoice\" function\n",
    "def creat_invoice():\n",
    "    total_amount_inc_tax = 0\n",
    "    for item, quantity in cart:\n",
    "        price = price_sheet[item]\n",
    "        tax = 0.18 * price\n",
    "        total = (tax + price) * quantity\n",
    "        total_amount_inc_tax += total\n",
    "        print(\"Item:\", item, \"\\t\", \"Price:\", \"\\t\", \"Quantity:\", quantity, \"\\t\", \"Tax:\", tax, \"\\t\", \"Total:\", total, \"\\n\")\n",
    "    print(\"After the taxes are applide the total amount is:\", \"\\t\", total_amount_inc_tax)\n",
    "    return total_amount_inc_tax"
   ]
  },
  {
   "cell_type": "code",
   "execution_count": 13,
   "id": "e846b50f",
   "metadata": {
    "execution": {
     "iopub.execute_input": "2023-06-11T21:19:58.831580Z",
     "iopub.status.busy": "2023-06-11T21:19:58.830586Z",
     "iopub.status.idle": "2023-06-11T21:19:58.837532Z",
     "shell.execute_reply": "2023-06-11T21:19:58.836317Z"
    },
    "id": "iUlKiXgMGdIk",
    "papermill": {
     "duration": 0.021579,
     "end_time": "2023-06-11T21:19:58.839980",
     "exception": false,
     "start_time": "2023-06-11T21:19:58.818401",
     "status": "completed"
    },
    "tags": []
   },
   "outputs": [],
   "source": [
    "# Define the \"checkout\" function\n",
    "def checkout():\n",
    "    global limit\n",
    "    total_amount = creat_invoice()\n",
    "    if limit == 0:\n",
    "        print(\"You dont have any budget\")\n",
    "    elif total_amount > limit:\n",
    "        print(\"The amount you have to pay is above the spending limit. You have to drop some items.\")\n",
    "    else:\n",
    "        limit -= total_amount\n",
    "        print(f\"The total aomut (inc1. taxes) you have paid is {total_amount}. You have {limit} dollars left\")"
   ]
  },
  {
   "cell_type": "markdown",
   "id": "051a766b",
   "metadata": {
    "id": "2IFUlu0yB0In",
    "papermill": {
     "duration": 0.010095,
     "end_time": "2023-06-11T21:19:58.860633",
     "exception": false,
     "start_time": "2023-06-11T21:19:58.850538",
     "status": "completed"
    },
    "tags": []
   },
   "source": [
    "Let's shop!"
   ]
  },
  {
   "cell_type": "code",
   "execution_count": 14,
   "id": "f7b20657",
   "metadata": {
    "execution": {
     "iopub.execute_input": "2023-06-11T21:19:58.885213Z",
     "iopub.status.busy": "2023-06-11T21:19:58.884662Z",
     "iopub.status.idle": "2023-06-11T21:19:58.893550Z",
     "shell.execute_reply": "2023-06-11T21:19:58.892085Z"
    },
    "id": "FDO7CRJTWPg7",
    "papermill": {
     "duration": 0.025404,
     "end_time": "2023-06-11T21:19:58.896756",
     "exception": false,
     "start_time": "2023-06-11T21:19:58.871352",
     "status": "completed"
    },
    "tags": []
   },
   "outputs": [
    {
     "name": "stdout",
     "output_type": "stream",
     "text": [
      "Item: Laptop \t Price: \t Quantity: 1 \t Tax: 270.0 \t Total: 1770.0 \n",
      "\n",
      "Item: Headset \t Price: \t Quantity: 8 \t Tax: 18.0 \t Total: 944.0 \n",
      "\n",
      "Item: Second Monitor \t Price: \t Quantity: 1 \t Tax: 36.0 \t Total: 236.0 \n",
      "\n",
      "Item: Mousepad \t Price: \t Quantity: 1 \t Tax: 9.0 \t Total: 59.0 \n",
      "\n",
      "Item: USB Drive \t Price: \t Quantity: 2 \t Tax: 12.6 \t Total: 165.2 \n",
      "\n",
      "Item: External Drive \t Price: \t Quantity: 4 \t Tax: 45.0 \t Total: 1180.0 \n",
      "\n",
      "After the taxes are applide the total amount is: \t 4354.2\n",
      "The total aomut (inc1. taxes) you have paid is 4354.2. You have 645.8000000000002 dollars left\n"
     ]
    }
   ],
   "source": [
    "# Call the \"add_to_cart\" function for each item\n",
    " \n",
    "# Add first item to cart\n",
    "add_to_cart(\"Laptop\", 1)\n",
    " \n",
    "# Add second item to cart\n",
    "add_to_cart(\"Headset\", 8)\n",
    " \n",
    "# Add third item to cart\n",
    "add_to_cart(\"Second Monitor\", 1)\n",
    " \n",
    "# Add fourth item to cart\n",
    "add_to_cart(\"Mousepad\", 1)\n",
    " \n",
    "# Add fifth item to cart\n",
    "add_to_cart(\"USB Drive\", 2)\n",
    " \n",
    "# Add last item to cart\n",
    "add_to_cart(\"External Drive\", 4)\n",
    " \n",
    "# Call the create \"checkout\" function to pay for all your items \n",
    "checkout()"
   ]
  },
  {
   "cell_type": "markdown",
   "id": "930bcf97",
   "metadata": {
    "id": "ZL-r2x_xKixg",
    "papermill": {
     "duration": 0.010697,
     "end_time": "2023-06-11T21:19:58.918239",
     "exception": false,
     "start_time": "2023-06-11T21:19:58.907542",
     "status": "completed"
    },
    "tags": []
   },
   "source": [
    "**Game Night**\n",
    "\n",
    "You are back at the office and the HR department organizes a welcome party for new employees. \n",
    "\n",
    "You decide to create a Rock-Paper-Scissor game. \n",
    "\n",
    "📌 Create a Rock-Paper-Scissor game in which the user plays against the computer. The player will choose one of the actions, and the computer will choose its action randomly.\n"
   ]
  },
  {
   "cell_type": "code",
   "execution_count": 15,
   "id": "0aafa960",
   "metadata": {
    "execution": {
     "iopub.execute_input": "2023-06-11T21:19:58.941960Z",
     "iopub.status.busy": "2023-06-11T21:19:58.941453Z",
     "iopub.status.idle": "2023-06-11T21:19:58.947128Z",
     "shell.execute_reply": "2023-06-11T21:19:58.945639Z"
    },
    "id": "qzD5pxBTgcFb",
    "papermill": {
     "duration": 0.021118,
     "end_time": "2023-06-11T21:19:58.950183",
     "exception": false,
     "start_time": "2023-06-11T21:19:58.929065",
     "status": "completed"
    },
    "tags": []
   },
   "outputs": [],
   "source": [
    "# Import the random library\n",
    "import random"
   ]
  },
  {
   "cell_type": "code",
   "execution_count": 16,
   "id": "6f381f49",
   "metadata": {
    "execution": {
     "iopub.execute_input": "2023-06-11T21:19:58.975307Z",
     "iopub.status.busy": "2023-06-11T21:19:58.974831Z",
     "iopub.status.idle": "2023-06-11T21:19:58.980561Z",
     "shell.execute_reply": "2023-06-11T21:19:58.979204Z"
    },
    "id": "oJv-ihLAgcRo",
    "papermill": {
     "duration": 0.021225,
     "end_time": "2023-06-11T21:19:58.983164",
     "exception": false,
     "start_time": "2023-06-11T21:19:58.961939",
     "status": "completed"
    },
    "tags": []
   },
   "outputs": [],
   "source": [
    "# create a list containing the three actions of the game.\n",
    "action_list = [\"rock\", \"paper\", \"scissors\"]"
   ]
  },
  {
   "cell_type": "code",
   "execution_count": 17,
   "id": "3fc2ef81",
   "metadata": {
    "execution": {
     "iopub.execute_input": "2023-06-11T21:19:59.007276Z",
     "iopub.status.busy": "2023-06-11T21:19:59.006477Z",
     "iopub.status.idle": "2023-06-11T21:19:59.701522Z",
     "shell.execute_reply": "2023-06-11T21:19:59.699586Z"
    },
    "id": "DNUa_9afWqMd",
    "papermill": {
     "duration": 0.709284,
     "end_time": "2023-06-11T21:19:59.703466",
     "exception": true,
     "start_time": "2023-06-11T21:19:58.994182",
     "status": "failed"
    },
    "tags": []
   },
   "outputs": [
    {
     "ename": "StdinNotImplementedError",
     "evalue": "raw_input was called, but this frontend does not support input requests.",
     "output_type": "error",
     "traceback": [
      "\u001b[0;31m---------------------------------------------------------------------------\u001b[0m",
      "\u001b[0;31mStdinNotImplementedError\u001b[0m                  Traceback (most recent call last)",
      "Cell \u001b[0;32mIn[17], line 6\u001b[0m\n\u001b[1;32m      3\u001b[0m player_score \u001b[38;5;241m=\u001b[39m \u001b[38;5;241m0\u001b[39m\n\u001b[1;32m      5\u001b[0m \u001b[38;5;66;03m#Ask the user how many rounds they want to play\u001b[39;00m\n\u001b[0;32m----> 6\u001b[0m total_rounds \u001b[38;5;241m=\u001b[39m \u001b[38;5;28;43minput\u001b[39;49m\u001b[43m(\u001b[49m\u001b[38;5;124;43m\"\u001b[39;49m\u001b[38;5;124;43mHow many rounds do you want to play? Please enter a number here: \u001b[39;49m\u001b[38;5;124;43m\"\u001b[39;49m\u001b[43m)\u001b[49m\n\u001b[1;32m      8\u001b[0m \u001b[38;5;66;03m#Add a round_counter that is 0 at the beginning\u001b[39;00m\n\u001b[1;32m      9\u001b[0m round_counter \u001b[38;5;241m=\u001b[39m \u001b[38;5;241m0\u001b[39m\n",
      "File \u001b[0;32m/opt/conda/lib/python3.10/site-packages/ipykernel/kernelbase.py:1190\u001b[0m, in \u001b[0;36mKernel.raw_input\u001b[0;34m(self, prompt)\u001b[0m\n\u001b[1;32m   1188\u001b[0m \u001b[38;5;28;01mif\u001b[39;00m \u001b[38;5;129;01mnot\u001b[39;00m \u001b[38;5;28mself\u001b[39m\u001b[38;5;241m.\u001b[39m_allow_stdin:\n\u001b[1;32m   1189\u001b[0m     msg \u001b[38;5;241m=\u001b[39m \u001b[38;5;124m\"\u001b[39m\u001b[38;5;124mraw_input was called, but this frontend does not support input requests.\u001b[39m\u001b[38;5;124m\"\u001b[39m\n\u001b[0;32m-> 1190\u001b[0m     \u001b[38;5;28;01mraise\u001b[39;00m StdinNotImplementedError(msg)\n\u001b[1;32m   1191\u001b[0m \u001b[38;5;28;01mreturn\u001b[39;00m \u001b[38;5;28mself\u001b[39m\u001b[38;5;241m.\u001b[39m_input_request(\n\u001b[1;32m   1192\u001b[0m     \u001b[38;5;28mstr\u001b[39m(prompt),\n\u001b[1;32m   1193\u001b[0m     \u001b[38;5;28mself\u001b[39m\u001b[38;5;241m.\u001b[39m_parent_ident[\u001b[38;5;124m\"\u001b[39m\u001b[38;5;124mshell\u001b[39m\u001b[38;5;124m\"\u001b[39m],\n\u001b[1;32m   1194\u001b[0m     \u001b[38;5;28mself\u001b[39m\u001b[38;5;241m.\u001b[39mget_parent(\u001b[38;5;124m\"\u001b[39m\u001b[38;5;124mshell\u001b[39m\u001b[38;5;124m\"\u001b[39m),\n\u001b[1;32m   1195\u001b[0m     password\u001b[38;5;241m=\u001b[39m\u001b[38;5;28;01mFalse\u001b[39;00m,\n\u001b[1;32m   1196\u001b[0m )\n",
      "\u001b[0;31mStdinNotImplementedError\u001b[0m: raw_input was called, but this frontend does not support input requests."
     ]
    }
   ],
   "source": [
    "# Set the scores of players to 0\n",
    "computer_score = 0\n",
    "player_score = 0\n",
    "\n",
    "#Ask the user how many rounds they want to play\n",
    "total_rounds = input(\"How many rounds do you want to play? Please enter a number here: \")\n",
    "\n",
    "#Add a round_counter that is 0 at the beginning\n",
    "round_counter = 0\n",
    "\n",
    "#Write a while loop and put the game inside\n",
    "while True:\n",
    "\n",
    "  #Increase round_counter by and print it\n",
    "  round_counter += 1\n",
    "  print(\"Round number:\", round_counter)\n",
    "\n",
    "\n",
    "  #Select a random action for computer\n",
    "  computer_choice = random.choice(action_list)\n",
    "\n",
    "  #Ask player to choose an action\n",
    "  player_choice = input(\"Please choose your action:\")\n",
    "    \n",
    "\n",
    "  #Print the players choices\n",
    "  print(\"Computer:\", computer_choice)\n",
    "  print (\"Player:\", player_choice)\n",
    "\n",
    "\n",
    "\n",
    "  #tie condition\n",
    "  if computer_choice == player_choice:\n",
    "    print(\"Tie! Both players chose the same action.\")\n",
    "\n",
    "\n",
    "  #Remaining conditions\n",
    "  elif computer_choice == \"paper\":\n",
    "    if player_choice == \"rock\":\n",
    "        print(\"Winner is: Computer\")\n",
    "    else:\n",
    "        print(\"Winner is: Player\")\n",
    "        player_score += 1\n",
    "  elif computer_choice == \"rock\":\n",
    "    if player_choice == \"paper\":\n",
    "        print(\"Winner is: Player\")\n",
    "        player_score +=1\n",
    "    else:\n",
    "        print(\"Winner is: Computer\")\n",
    "        computer_score +=1\n",
    "  elif computer_choice == \"scissors\":\n",
    "    if player_choice == \"paper_\":\n",
    "        print(\"Winner is: computer\")\n",
    "        computer_scors +=1\n",
    "    else:\n",
    "        print(\"Winner is Player\")\n",
    "        player_score +=1\n",
    "        \n",
    "\n",
    "\n",
    "  #Stop the while loop if the round_counter equals the number of total rounds\n",
    "  if round_counter == int(total_rounds):\n",
    "        break\n",
    "\n",
    "\n",
    "#Print the outcome of the game by using conditional statements\n",
    "if computer_score == player_score:\n",
    "    print(\"There is no winner, tie.\", computer_score, \":\", player_score)\n",
    "elif computer_score > player_score:\n",
    "    print(\"Computer won with score\", computer_score, \":\", player_score)"
   ]
  },
  {
   "cell_type": "markdown",
   "id": "1f55da09",
   "metadata": {
    "id": "jdrYN0Xgp-D6",
    "papermill": {
     "duration": null,
     "end_time": null,
     "exception": null,
     "start_time": null,
     "status": "pending"
    },
    "tags": []
   },
   "source": [
    "# Your first task \n",
    "\n",
    "Rachel asks you to write a program to track the name and revenue each employee brings.  \n",
    "\n",
    "* Create the \"salesperson_revenue\" dictionary to see the employee name as a key and the revenue as a value.\n",
    "\n",
    "  📌 Every employee starts with 0 revenue.\n",
    "* Define the \"enter_revenue\" function. \n",
    "\n",
    "  📌 The function takes the name and revenue as an argument and updates the salesperson_revenue dictionary.\n"
   ]
  },
  {
   "cell_type": "code",
   "execution_count": null,
   "id": "781a269f",
   "metadata": {
    "execution": {
     "iopub.execute_input": "2023-06-11T21:16:42.313195Z",
     "iopub.status.busy": "2023-06-11T21:16:42.312764Z",
     "iopub.status.idle": "2023-06-11T21:16:42.318840Z",
     "shell.execute_reply": "2023-06-11T21:16:42.317683Z",
     "shell.execute_reply.started": "2023-06-11T21:16:42.313161Z"
    },
    "id": "3vzRo7hyMRv2",
    "papermill": {
     "duration": null,
     "end_time": null,
     "exception": null,
     "start_time": null,
     "status": "pending"
    },
    "tags": []
   },
   "outputs": [],
   "source": [
    "#Create salesperson_revenue dictionary\n",
    "salesperson_revenue = {\n",
    "    \"Ben\": 0,\n",
    "    \"Omer\": 0,\n",
    "    \"Kare\": 0,\n",
    "    \"Celine\": 0,\n",
    "    \"Sue\": 0,\n",
    "    \"Bora\": 0,\n",
    "    \"Rose\": 0,\n",
    "    \"Ellen\": 0  \n",
    "}\n"
   ]
  },
  {
   "cell_type": "code",
   "execution_count": null,
   "id": "44aeee8c",
   "metadata": {
    "execution": {
     "iopub.execute_input": "2023-06-11T21:16:45.061551Z",
     "iopub.status.busy": "2023-06-11T21:16:45.061150Z",
     "iopub.status.idle": "2023-06-11T21:16:45.066942Z",
     "shell.execute_reply": "2023-06-11T21:16:45.065894Z",
     "shell.execute_reply.started": "2023-06-11T21:16:45.061523Z"
    },
    "id": "m-8IozBwMRzM",
    "papermill": {
     "duration": null,
     "end_time": null,
     "exception": null,
     "start_time": null,
     "status": "pending"
    },
    "tags": []
   },
   "outputs": [],
   "source": [
    "# Define enter_revenue function\n",
    "def enter_revenue(name, revenue):\n",
    "    global salespersons_revenue\n",
    "    salesperson_revenue[name] += revenue\n"
   ]
  },
  {
   "cell_type": "markdown",
   "id": "2ede641b",
   "metadata": {
    "id": "UnTGSoNTi58u",
    "papermill": {
     "duration": null,
     "end_time": null,
     "exception": null,
     "start_time": null,
     "status": "pending"
    },
    "tags": []
   },
   "source": [
    "**Try out the functions**\n",
    "* In a while loop ask the user to give the name of the employee and for the revenue \n",
    "\n",
    "  📌 If the user enters “quit” the loop should break.\n",
    "\n",
    "After that, print out the salesperson_revenue dictionary.\n"
   ]
  },
  {
   "cell_type": "code",
   "execution_count": null,
   "id": "cb3b0aa1",
   "metadata": {
    "execution": {
     "iopub.execute_input": "2023-06-11T21:17:39.710416Z",
     "iopub.status.busy": "2023-06-11T21:17:39.710008Z",
     "iopub.status.idle": "2023-06-11T21:19:13.199952Z",
     "shell.execute_reply": "2023-06-11T21:19:13.199098Z",
     "shell.execute_reply.started": "2023-06-11T21:17:39.710379Z"
    },
    "id": "2E549VvFXNi6",
    "papermill": {
     "duration": null,
     "end_time": null,
     "exception": null,
     "start_time": null,
     "status": "pending"
    },
    "tags": []
   },
   "outputs": [],
   "source": [
    "# Asking user employee name as input\n",
    "while True:\n",
    "    name = input(\"Employee name: \")                                \n",
    "    if name == \"quit\":\n",
    "        break\n",
    "    revenue = int(input(\"Enter revenue: \"))\n",
    "    enter_revenue(name, revenue)\n",
    "    print(f\"{name}'s revenue is {salesperson_revenue[name]}\")"
   ]
  },
  {
   "cell_type": "code",
   "execution_count": null,
   "id": "13b9f71d",
   "metadata": {
    "execution": {
     "iopub.execute_input": "2023-06-11T21:19:19.950622Z",
     "iopub.status.busy": "2023-06-11T21:19:19.950249Z",
     "iopub.status.idle": "2023-06-11T21:19:19.956073Z",
     "shell.execute_reply": "2023-06-11T21:19:19.955133Z",
     "shell.execute_reply.started": "2023-06-11T21:19:19.950583Z"
    },
    "id": "OAvl9rgOXPe6",
    "papermill": {
     "duration": null,
     "end_time": null,
     "exception": null,
     "start_time": null,
     "status": "pending"
    },
    "tags": []
   },
   "outputs": [],
   "source": [
    "# Print the salesperson_revenue dictionary\n",
    "print(salesperson_revenue)                             "
   ]
  }
 ],
 "metadata": {
  "kernelspec": {
   "display_name": "Python 3",
   "language": "python",
   "name": "python3"
  },
  "language_info": {
   "codemirror_mode": {
    "name": "ipython",
    "version": 3
   },
   "file_extension": ".py",
   "mimetype": "text/x-python",
   "name": "python",
   "nbconvert_exporter": "python",
   "pygments_lexer": "ipython3",
   "version": "3.10.10"
  },
  "papermill": {
   "default_parameters": {},
   "duration": 17.871422,
   "end_time": "2023-06-11T21:20:01.141297",
   "environment_variables": {},
   "exception": true,
   "input_path": "__notebook__.ipynb",
   "output_path": "__notebook__.ipynb",
   "parameters": {},
   "start_time": "2023-06-11T21:19:43.269875",
   "version": "2.4.0"
  }
 },
 "nbformat": 4,
 "nbformat_minor": 5
}
